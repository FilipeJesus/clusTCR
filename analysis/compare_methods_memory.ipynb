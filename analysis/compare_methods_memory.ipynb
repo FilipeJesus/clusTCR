{
 "cells": [
  {
   "cell_type": "markdown",
   "id": "informative-affair",
   "metadata": {},
   "source": [
    "# **Memory Profiling Analysis**\n",
    "Using the *memory_profiler* pip package, we analyse ClusTCR's memory usage against iSMART, GLIPH2 and tcrdist3.\n"
   ]
  },
  {
   "cell_type": "code",
   "execution_count": null,
   "id": "sweet-filename",
   "metadata": {
    "pycharm": {
     "is_executing": true
    }
   },
   "outputs": [],
   "source": [
    "%matplotlib inline\n",
    "import matplotlib.pyplot as plt\n",
    "from memory_profiler import memory_usage\n",
    "\n",
    "from clustcr.clustering.clustering import Clustering\n",
    "from clustcr.input.datasets import metarepertoire\n",
    "from clustcr.modules.gliph2.gliph2 import GLIPH2\n",
    "from clustcr.modules.ismart.ismart import iSMART\n",
    "from clustcr.modules.tcrdist.pw_tcrdist import tcrdist\n"
   ]
  },
  {
   "cell_type": "markdown",
   "source": [
    "Set the path to a folder containing immuneaccess data files (such as Emerson et al)"
   ],
   "metadata": {
    "collapsed": false,
    "pycharm": {
     "name": "#%% md\n"
    }
   }
  },
  {
   "cell_type": "code",
   "execution_count": null,
   "outputs": [],
   "source": [
    "IMMUNEACCESS = '/home/max/Documents/bio/emerson-2017-natgen'\n"
   ],
   "metadata": {
    "collapsed": false,
    "pycharm": {
     "name": "#%%\n"
    }
   }
  },
  {
   "cell_type": "markdown",
   "source": [
    "We define some helper functions to profile the memory usage and retrieve data from the above folder."
   ],
   "metadata": {
    "collapsed": false,
    "pycharm": {
     "name": "#%% md\n"
    }
   }
  },
  {
   "cell_type": "code",
   "execution_count": null,
   "outputs": [],
   "source": [
    "def memory(f, *args):\n",
    "    return memory_usage((f, args, {}), max_usage=True, include_children=True)\n",
    "\n",
    "\n",
    "def meta(n, out='CDR3'):\n",
    "    return metarepertoire(directory=IMMUNEACCESS,\n",
    "                          data_format='immuneaccess',\n",
    "                          out_format=out,\n",
    "                          n_sequences=n)"
   ],
   "metadata": {
    "collapsed": false,
    "pycharm": {
     "name": "#%%\n"
    }
   }
  },
  {
   "cell_type": "code",
   "execution_count": null,
   "id": "cloudy-burlington",
   "metadata": {
    "collapsed": true,
    "jupyter": {
     "outputs_hidden": true
    },
    "pycharm": {
     "is_executing": true
    }
   },
   "outputs": [
    {
     "name": "stderr",
     "output_type": "stream",
     "text": [
      "<ipython-input-40-9326a06e5609>:10: DtypeWarning: Columns (29,36) have mixed types.Specify dtype option on import or set low_memory=False.\n",
      "  cdr3 = meta(size)\n",
      "<ipython-input-40-9326a06e5609>:11: DtypeWarning: Columns (29,36) have mixed types.Specify dtype option on import or set low_memory=False.\n",
      "  cdr3_gliph2 = meta(size, 'GLIPH2')\n",
      "<ipython-input-40-9326a06e5609>:11: DtypeWarning: Columns (29) have mixed types.Specify dtype option on import or set low_memory=False.\n",
      "  cdr3_gliph2 = meta(size, 'GLIPH2')\n",
      "<ipython-input-40-9326a06e5609>:12: DtypeWarning: Columns (29,36) have mixed types.Specify dtype option on import or set low_memory=False.\n",
      "  cdr3_tcrdist = meta(size, 'TCRDIST')\n",
      "<ipython-input-40-9326a06e5609>:12: DtypeWarning: Columns (29,34,36) have mixed types.Specify dtype option on import or set low_memory=False.\n",
      "  cdr3_tcrdist = meta(size, 'TCRDIST')\n",
      "<ipython-input-40-9326a06e5609>:10: DtypeWarning: Columns (29) have mixed types.Specify dtype option on import or set low_memory=False.\n",
      "  cdr3 = meta(size)\n"
     ]
    },
    {
     "name": "stdout",
     "output_type": "stream",
     "text": [
      "pw dist calculations for 4000 sequences with tcrdist.\n",
      "CREATED /bb2e39ffc2e4/ FOR HOLDING DISTANCE OUT OF MEMORY\n",
      "RETURNING scipy.sparse csr_matrix w/dims (4000, 4000)\n",
      "CLEANING UP bb2e39ffc2e4\n",
      "Elapsed time: 14.540754556655884 seconds.\n",
      "Clustering 4000 sequences with GLIPH2.\n",
      "Elapsed time: 4.320370435714722 seconds.\n",
      "Clustering 4000 sequences with iSMART.\n",
      "Elapsed time: 1.4219179153442383 seconds.\n",
      "4000 {'GLIPH2': [2176.0546875], 'iSMART': [2165.55859375], 'clusTCR': [10279.234375], 'tcrdist3*': [3144.140625]}\n",
      "pw dist calculations for 8000 sequences with tcrdist.\n",
      "CREATED /ece2c865675f/ FOR HOLDING DISTANCE OUT OF MEMORY\n",
      "RETURNING scipy.sparse csr_matrix w/dims (7987, 7987)\n",
      "CLEANING UP ece2c865675f\n",
      "Elapsed time: 54.71325206756592 seconds.\n",
      "Clustering 8000 sequences with GLIPH2.\n",
      "Elapsed time: 7.948998689651489 seconds.\n",
      "Clustering 8000 sequences with iSMART.\n",
      "Elapsed time: 3.979224443435669 seconds.\n",
      "8000 {'GLIPH2': [2176.0546875, 2181.171875], 'iSMART': [2165.55859375, 2198.0078125], 'clusTCR': [10279.234375, 10492.93359375], 'tcrdist3*': [3144.140625, 3313.96484375]}\n",
      "Clustering 20000 sequences with GLIPH2.\n",
      "Elapsed time: 31.349348783493042 seconds.\n",
      "Clustering 20000 sequences with iSMART.\n",
      "Elapsed time: 15.606523036956787 seconds.\n",
      "20000 {'GLIPH2': [2176.0546875, 2181.171875, 2200.25], 'iSMART': [2165.55859375, 2198.0078125, 2333.90234375], 'clusTCR': [10279.234375, 10492.93359375, 10528.21484375], 'tcrdist3*': [3144.140625, 3313.96484375, None]}\n",
      "Clustering 60000 sequences with GLIPH2.\n",
      "Elapsed time: 159.45898032188416 seconds.\n",
      "Clustering 60000 sequences with iSMART.\n"
     ]
    }
   ],
   "source": [
    "sample_sizes = [4000, 8000, 20000, 60000]\n",
    "result = {\n",
    "    'GLIPH2': [],\n",
    "    'iSMART': [],\n",
    "    'clusTCR': [],\n",
    "    'tcrdist3*': []\n",
    "}\n",
    "\n",
    "for size in sample_sizes:\n",
    "    cdr3 = meta(size)\n",
    "    cdr3_gliph2 = meta(size, 'GLIPH2')\n",
    "    cdr3_tcrdist = meta(size, 'TCRDIST')\n",
    "\n",
    "    result['tcrdist3*'].append(memory(tcrdist, cdr3_tcrdist) if size < 10000 else None)\n",
    "    result['GLIPH2'].append(memory(GLIPH2, cdr3_gliph2))\n",
    "    result['iSMART'].append(memory(iSMART, cdr3))\n",
    "    result['clusTCR'].append(memory(lambda: Clustering(n_cpus='all').fit(cdr3)))\n",
    "\n",
    "    print(size, result)"
   ]
  },
  {
   "cell_type": "markdown",
   "id": "informed-administration",
   "metadata": {
    "pycharm": {
     "name": "#%% md\n"
    }
   },
   "source": [
    "## **Plot results**"
   ]
  },
  {
   "cell_type": "code",
   "execution_count": null,
   "outputs": [],
   "source": [
    "plt.figure()\n",
    "for name, values in result.items():\n",
    "    plt.plot(sample_sizes, values, label=name)\n",
    "plt.xlabel('Number of sequences')\n",
    "plt.ylabel('MB used')\n",
    "plt.legend(loc='best')\n",
    "plt.show()"
   ],
   "metadata": {
    "collapsed": false,
    "pycharm": {
     "name": "#%%\n",
     "is_executing": true
    }
   }
  }
 ],
 "metadata": {
  "kernelspec": {
   "display_name": "Python 3",
   "language": "python",
   "name": "python3"
  },
  "language_info": {
   "codemirror_mode": {
    "name": "ipython",
    "version": 3
   },
   "file_extension": ".py",
   "mimetype": "text/x-python",
   "name": "python",
   "nbconvert_exporter": "python",
   "pygments_lexer": "ipython3",
   "version": "3.6.12"
  },
  "toc-autonumbering": false,
  "toc-showcode": false,
  "toc-showmarkdowntxt": true,
  "toc-showtags": false
 },
 "nbformat": 4,
 "nbformat_minor": 5
}