{
 "cells": [
  {
   "cell_type": "markdown",
   "id": "informative-affair",
   "metadata": {},
   "source": [
    "# **Memory Profiling ClusTCR and other TCR clustering methods**\n",
    "This notebook compares the memory usage of *clusTCR* with existing TCR clustering methods.\n"
   ]
  },
  {
   "cell_type": "code",
   "execution_count": 35,
   "id": "sweet-filename",
   "metadata": {},
   "outputs": [],
   "source": [
    "%matplotlib inline\n",
    "import matplotlib.pyplot as plt\n",
    "from memory_profiler import memory_usage\n",
    "from clustcr.clustering.clustering import Clustering\n",
    "from clustcr.input.datasets import metarepertoire\n",
    "from clustcr.modules.gliph2.gliph2 import GLIPH2\n",
    "from clustcr.modules.ismart.ismart import iSMART\n",
    "from clustcr.modules.tcrdist.pw_tcrdist import tcrdist\n",
    "\n",
    "EMERSON = '/home/max/Documents/bio/emerson-2017-natgen'\n",
    "\n",
    "def memory(f, *args):\n",
    "    return memory_usage((f, args, {}), max_usage=True, include_children=True)\n",
    "\n",
    "\n",
    "def meta(n, out='CDR3'):\n",
    "    return metarepertoire(directory=EMERSON,\n",
    "                          data_format='immuneaccess',\n",
    "                          out_format=out,\n",
    "                          n_sequences=n)\n"
   ]
  },
  {
   "cell_type": "code",
   "execution_count": null,
   "id": "cloudy-burlington",
   "metadata": {
    "collapsed": true,
    "jupyter": {
     "outputs_hidden": true
    },
    "pycharm": {
     "is_executing": true
    }
   },
   "outputs": [
    {
     "name": "stderr",
     "output_type": "stream",
     "text": [
      "<ipython-input-36-60a2226a3720>:10: DtypeWarning: Columns (29,36) have mixed types.Specify dtype option on import or set low_memory=False.\n",
      "  cdr3 = meta(size)\n",
      "<ipython-input-36-60a2226a3720>:11: DtypeWarning: Columns (29) have mixed types.Specify dtype option on import or set low_memory=False.\n",
      "  cdr3_gliph2 = meta(size, 'GLIPH2')\n",
      "<ipython-input-36-60a2226a3720>:12: DtypeWarning: Columns (36) have mixed types.Specify dtype option on import or set low_memory=False.\n",
      "  cdr3_tcrdist = meta(size, 'TCRDIST')\n",
      "<ipython-input-36-60a2226a3720>:12: DtypeWarning: Columns (29,36) have mixed types.Specify dtype option on import or set low_memory=False.\n",
      "  cdr3_tcrdist = meta(size, 'TCRDIST')\n",
      "<ipython-input-36-60a2226a3720>:10: DtypeWarning: Columns (29) have mixed types.Specify dtype option on import or set low_memory=False.\n",
      "  cdr3 = meta(size)\n",
      "<ipython-input-36-60a2226a3720>:10: DtypeWarning: Columns (36) have mixed types.Specify dtype option on import or set low_memory=False.\n",
      "  cdr3 = meta(size)\n",
      "<ipython-input-36-60a2226a3720>:11: DtypeWarning: Columns (29,36) have mixed types.Specify dtype option on import or set low_memory=False.\n",
      "  cdr3_gliph2 = meta(size, 'GLIPH2')\n",
      "<ipython-input-36-60a2226a3720>:12: DtypeWarning: Columns (29) have mixed types.Specify dtype option on import or set low_memory=False.\n",
      "  cdr3_tcrdist = meta(size, 'TCRDIST')\n"
     ]
    },
    {
     "name": "stdout",
     "output_type": "stream",
     "text": [
      "pw dist calculations for 5000 sequences with tcrdist.\n",
      "CREATED /90039445f09e/ FOR HOLDING DISTANCE OUT OF MEMORY\n",
      "RETURNING scipy.sparse csr_matrix w/dims (4999, 4999)\n",
      "CLEANING UP 90039445f09e\n",
      "Elapsed time: 19.82661724090576 seconds.\n",
      "Clustering 5000 sequences with GLIPH2.\n",
      "Elapsed time: 4.890369653701782 seconds.\n",
      "Clustering 5000 sequences with iSMART.\n",
      "Elapsed time: 1.889692783355713 seconds.\n",
      "5000 {'GLIPH2': [1652.63671875], 'iSMART': [1650.2890625], 'clusTCR': [7599.4765625], 'tcrdist3*': [2402.33984375]}\n",
      "pw dist calculations for 20000 sequences with tcrdist.\n",
      "CREATED /20c3cd515a49/ FOR HOLDING DISTANCE OUT OF MEMORY\n"
     ]
    }
   ],
   "source": [
    "sample_sizes = [5000, 20000, 100000]\n",
    "result = {\n",
    "    'GLIPH2': [],\n",
    "    'iSMART': [],\n",
    "    'clusTCR': [],\n",
    "    'tcrdist3*': []\n",
    "}\n",
    "\n",
    "for size in sample_sizes:\n",
    "    cdr3 = meta(size)\n",
    "    cdr3_gliph2 = meta(size, 'GLIPH2')\n",
    "    cdr3_tcrdist = meta(size, 'TCRDIST')\n",
    "\n",
    "    result['tcrdist3*'].append(memory(tcrdist, cdr3_tcrdist))\n",
    "    result['GLIPH2'].append(memory(GLIPH2, cdr3_gliph2))\n",
    "    result['iSMART'].append(memory(iSMART, cdr3))\n",
    "    result['clusTCR'].append(memory(lambda: Clustering(n_cpus='all').fit(cdr3)))\n",
    "\n",
    "    print(size, result)"
   ]
  },
  {
   "cell_type": "markdown",
   "id": "informed-administration",
   "metadata": {
    "pycharm": {
     "name": "#%% md\n"
    }
   },
   "source": [
    "## **Plot results**"
   ]
  },
  {
   "cell_type": "code",
   "execution_count": null,
   "outputs": [],
   "source": [
    "plt.figure()\n",
    "for name, values in result.items():\n",
    "    plt.plot(sample_sizes, values, label=name)\n",
    "plt.xlabel('Number of sequences')\n",
    "plt.ylabel('MB used')\n",
    "plt.legend(loc='best')\n",
    "plt.show()"
   ],
   "metadata": {
    "collapsed": false,
    "pycharm": {
     "name": "#%%\n",
     "is_executing": true
    }
   }
  }
 ],
 "metadata": {
  "kernelspec": {
   "display_name": "Python 3",
   "language": "python",
   "name": "python3"
  },
  "language_info": {
   "codemirror_mode": {
    "name": "ipython",
    "version": 3
   },
   "file_extension": ".py",
   "mimetype": "text/x-python",
   "name": "python",
   "nbconvert_exporter": "python",
   "pygments_lexer": "ipython3",
   "version": "3.6.12"
  },
  "toc-autonumbering": false,
  "toc-showcode": false,
  "toc-showmarkdowntxt": true,
  "toc-showtags": false
 },
 "nbformat": 4,
 "nbformat_minor": 5
}