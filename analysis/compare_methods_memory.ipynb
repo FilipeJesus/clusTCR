{
 "cells": [
  {
   "cell_type": "markdown",
   "id": "fifteen-precipitation",
   "metadata": {},
   "source": [
    "# **Memory Profiling Analysis**\n",
    "Using the *memory_profiler* pip package, we analyse ClusTCR's memory usage against iSMART, GLIPH2 and tcrdist3.\n"
   ]
  },
  {
   "cell_type": "code",
   "execution_count": 9,
   "id": "invisible-warning",
   "metadata": {},
   "outputs": [],
   "source": [
    "import os\n",
    "\n",
    "# Path to clusTCR repo goes here:\n",
    "homedir = '/path_to_repo/clusTCR/' \n",
    "os.chdir(homedir)"
   ]
  },
  {
   "cell_type": "code",
   "execution_count": 2,
   "id": "considered-communication",
   "metadata": {},
   "outputs": [],
   "source": [
    "%matplotlib inline\n",
    "import matplotlib.pyplot as plt\n",
    "import seaborn as sns\n",
    "import pandas as pd\n",
    "from memory_profiler import memory_usage\n",
    "\n",
    "from clustcr.clustering.clustering import Clustering\n",
    "from clustcr.input.datasets import metarepertoire\n",
    "from clustcr.modules.gliph2.gliph2 import GLIPH2\n",
    "from clustcr.modules.ismart.ismart import iSMART\n",
    "from clustcr.modules.tcrdist.pw_tcrdist import tcrdist"
   ]
  },
  {
   "cell_type": "code",
   "execution_count": 3,
   "id": "chicken-answer",
   "metadata": {},
   "outputs": [],
   "source": [
    "plt.style.use(['seaborn-white', 'seaborn-paper'])\n",
    "plt.rc('font', family='serif')\n",
    "sns.set_palette('Set1')\n",
    "sns.set_context('paper', font_scale=1.3)"
   ]
  },
  {
   "cell_type": "markdown",
   "id": "flying-dover",
   "metadata": {
    "pycharm": {
     "name": "#%% md\n"
    }
   },
   "source": [
    "Set the path to a folder containing immuneaccess data files (such as Emerson et al)"
   ]
  },
  {
   "cell_type": "code",
   "execution_count": 4,
   "id": "mature-kelly",
   "metadata": {
    "collapsed": false,
    "jupyter": {
     "outputs_hidden": false
    },
    "pycharm": {
     "name": "#%%\n"
    }
   },
   "outputs": [],
   "source": [
    "IMMUNEACCESS = '/path_to_data/'"
   ]
  },
  {
   "cell_type": "markdown",
   "id": "caring-offense",
   "metadata": {
    "pycharm": {
     "name": "#%% md\n"
    }
   },
   "source": [
    "We define some helper functions to profile the memory usage and retrieve data from the above folder."
   ]
  },
  {
   "cell_type": "code",
   "execution_count": 5,
   "id": "certified-yacht",
   "metadata": {
    "collapsed": false,
    "jupyter": {
     "outputs_hidden": false
    },
    "pycharm": {
     "name": "#%%\n"
    }
   },
   "outputs": [],
   "source": [
    "def memory(f, *args):\n",
    "    return memory_usage((f, args, {}), include_children=True,  max_usage=True)\n",
    "\n",
    "\n",
    "def meta(n, out='CDR3'):\n",
    "    return metarepertoire(directory=IMMUNEACCESS,\n",
    "                          data_format='immuneaccess',\n",
    "                          out_format=out,\n",
    "                          n_sequences=n)"
   ]
  },
  {
   "cell_type": "code",
   "execution_count": 7,
   "id": "pacific-equipment",
   "metadata": {},
   "outputs": [],
   "source": [
    "sample_sizes = [2000, 4000, 8000, 20000, 60000]\n",
    "result = {\n",
    "    'GLIPH2': [],\n",
    "    'iSMART': [],\n",
    "    'ClusTCR²': [],\n",
    "    'ClusTCR¹': [],\n",
    "    'TCRDist*': []\n",
    "}\n",
    "\n",
    "for size in sample_sizes:\n",
    "    cdr3 = meta(size)\n",
    "    cdr3_gliph2 = meta(size, 'GLIPH2')\n",
    "    cdr3_tcrdist = meta(size, 'TCRDIST')\n",
    "\n",
    "    result['TCRDist*'].append(memory(tcrdist, cdr3_tcrdist) if size < 10000 else None)\n",
    "    result['GLIPH2'].append(memory(GLIPH2, cdr3_gliph2))\n",
    "    result['iSMART'].append(memory(iSMART, cdr3))\n",
    "    result['ClusTCR²'].append(memory(lambda: Clustering(n_cpus='all').fit(cdr3)))\n",
    "    result['ClusTCR¹'].append(memory(lambda: Clustering().fit(cdr3)))\n",
    "\n",
    "os.chdir(homedir)\n",
    "pd.DataFrame(result).to_csv('./results/method_comparison_memory.tsv', sep='\\t', index=False)"
   ]
  },
  {
   "cell_type": "markdown",
   "id": "prospective-county",
   "metadata": {
    "pycharm": {
     "name": "#%% md\n"
    }
   },
   "source": [
    "## **Plot results**"
   ]
  },
  {
   "cell_type": "code",
   "execution_count": 46,
   "id": "southern-flesh",
   "metadata": {
    "collapsed": false,
    "jupyter": {
     "outputs_hidden": false
    },
    "pycharm": {
     "name": "#%%\n"
    }
   },
   "outputs": [
    {
     "data": {
      "image/png": "[encoded data removed]",
      "text/plain": [
       "<Figure size 432x288 with 1 Axes>"
      ]
     },
     "metadata": {
      "needs_background": "light"
     },
     "output_type": "display_data"
    }
   ],
   "source": [
    "os.chdir(homedir)\n",
    "\n",
    "fig, ax = plt.subplots()\n",
    "for name, values in result.items():\n",
    "    ax.plot(sample_sizes, values, label=name)\n",
    "ax.set_xlabel('Number of sequences')\n",
    "ax.set_ylabel('MB used')\n",
    "\n",
    "ax.legend(loc=\"lower center\",borderaxespad=.1,bbox_to_anchor=(1.30, .25))\n",
    "fig.savefig('./results/figures/methods_comparison_memory.eps', format='eps', bbox_inches='tight')"
   ]
  }
 ],
 "metadata": {
  "kernelspec": {
   "display_name": "Python 3",
   "language": "python",
   "name": "python3"
  },
  "language_info": {
   "codemirror_mode": {
    "name": "ipython",
    "version": 3
   },
   "file_extension": ".py",
   "mimetype": "text/x-python",
   "name": "python",
   "nbconvert_exporter": "python",
   "pygments_lexer": "ipython3",
   "version": "3.6.12"
  },
  "toc-autonumbering": false,
  "toc-showcode": false,
  "toc-showmarkdowntxt": true,
  "toc-showtags": false
 },
 "nbformat": 4,
 "nbformat_minor": 5
}
